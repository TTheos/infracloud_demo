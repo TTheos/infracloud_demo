{
 "cells": [
  {
   "cell_type": "code",
   "execution_count": 1,
   "id": "f323f954-f8a8-4356-9677-6a6a3e2ad898",
   "metadata": {},
   "outputs": [
    {
     "name": "stdout",
     "output_type": "stream",
     "text": [
      "current date and time: \n",
      "2025-10-22 16:00:43.033589\n"
     ]
    }
   ],
   "source": [
    "###Shorter version of the two previous cells\n",
    "###STEP 1 PREP\n",
    "import requests\n",
    "import datetime\n",
    "import json \n",
    "\n",
    "#Suppress credential warning for this exercise\n",
    "requests.packages.urllib3.disable_warnings\n",
    "print (\"current date and time: \")\n",
    "print(datetime.datetime.now())\n",
    "#HARD CODED VARIABLES\n",
    "DNAC_scheme = 'https://'\n",
    "DNAC_authority= 'sandboxdnac2.cisco.com'\n",
    "#DNAC_port='443'\n",
    "DNAC_path_token ='/dna/system/api/v1/auth/token'\n",
    "DNAC_path = '/dna/intent/api/v1/network-device'\n",
    "#DNAC_user = input (\"Username? (devnetuser)\")\n",
    "#DNAC_psw = input(\"password? (cisco123)!\")\n",
    "\n",
    "DNAC_user = \"devnetuser\"\n",
    "DNAC_psw = \"Cisco123!\""
   ]
  },
  {
   "cell_type": "code",
   "execution_count": 2,
   "id": "0073a077-8774-40c3-92bc-c20438039aea",
   "metadata": {
    "scrolled": true
   },
   "outputs": [
    {
     "name": "stdout",
     "output_type": "stream",
     "text": [
      "API Return Code: 200\n",
      "Request URI: https://sandboxdnac2.cisco.com/dna/system/api/v1/auth/token\n",
      "Username: devnetuser\n",
      "Received Token:\n",
      "eyJhbGciOiJFUzI1NiIsInR5cCI6IkpXVCJ9.eyJhY3RpdmVSRCI6IjliZjZiMjViMGM1ZTQwM2Q1MTc5ZmM5ZDQxZDViYWQ0ZjM4N2RjNDUiLCJhdWQiOiJDRE5BIiwiYXV0aFNvdXJjZSI6ImxlZ2FjeSIsImNsaWVudElkIjoiZGV2bmV0dXNlciIsImVtYWlsIjoiZGV2bmV0dXNlckBsb2NhbHVzZXIuY29tIiwiZXhwIjoxNzYxMTUyMzI1LCJpYXQiOjE3NjExNDg3MjUsImlzcyI6ImRuYWMiLCJyZHMiOlsiOWJmNmIyNWIwYzVlNDAzZDUxNzlmYzlkNDFkNWJhZDRmMzg3ZGM0NSJdLCJyZXNvdXJjZUdyb3VwcyI6Ikg0c0lBQUFBQUFBQS80cXVWaW91U2c1S0xjNHZMVXBPOVV4UnNsTFNVdEpSS3Frc1NGV3lVaXJPTEVsVnFvMEZCQUFBLy8rY3ZYZktKUUFBQUE9PSIsInJvbGVzIjpbIk9CU0VSVkVSIl0sInNlc3Npb25JZCI6ImU2ZmJmYTI2LTA5ZDMtNTYyYi1hODBiLWE0ZTgwOTgyMDA0OSIsInN1YiI6IjY4NjU1MTAyYmI1YTZiMDAyNjVjNzE4YiIsInRlbmFudElkIjoiNjdiOTM1YzU5MTU1ZjUwMDEzNTE1ZDFjIiwidGVuYW50TmFtZSI6IlROVDAiLCJ1c2VybmFtZSI6ImRldm5ldHVzZXIifQ.X2IjTTVnM-tndyWIFGrXfvfc30I4CAsFKGItypkubtJBXU8F7uvILahp_-SxLQJCf2Mm8JkKAYFrwWgZhprABQ\n",
      "Length Token:\n",
      "842\n"
     ]
    },
    {
     "name": "stderr",
     "output_type": "stream",
     "text": [
      "/opt/conda/envs/anaconda-panel-2023.05-py310/lib/python3.11/site-packages/urllib3/connectionpool.py:1056: InsecureRequestWarning: Unverified HTTPS request is being made to host 'proxy.server'. Adding certificate verification is strongly advised. See: https://urllib3.readthedocs.io/en/1.26.x/advanced-usage.html#ssl-warnings\n",
      "  warnings.warn(\n"
     ]
    }
   ],
   "source": [
    "###STEP 2 TOKEN REQUEST\n",
    "token_req_url = DNAC_scheme+DNAC_authority+DNAC_path_token\n",
    "auth = (DNAC_user, DNAC_psw)\n",
    "req = requests.post(token_req_url, auth=auth, verify=False)\n",
    "print(\"API Return Code: \" + str(req.status_code))\n",
    "print('Request URI: ' + token_req_url)\n",
    "print(\"Username: \" + DNAC_user)\n",
    "resp = req.text\n",
    "token = req.json()[\"Token\"]\n",
    "print(\"Received Token:\")\n",
    "print(token)\n",
    "print(\"Length Token:\")\n",
    "print(len(token))"
   ]
  },
  {
   "cell_type": "code",
   "execution_count": null,
   "id": "8db169c5-4945-4639-83ba-e0f221c439e5",
   "metadata": {},
   "outputs": [],
   "source": []
  }
 ],
 "metadata": {
  "kernelspec": {
   "display_name": "anaconda-panel-2023.05-py310",
   "language": "python",
   "name": "conda-env-anaconda-panel-2023.05-py310-py"
  },
  "language_info": {
   "codemirror_mode": {
    "name": "ipython",
    "version": 3
   },
   "file_extension": ".py",
   "mimetype": "text/x-python",
   "name": "python",
   "nbconvert_exporter": "python",
   "pygments_lexer": "ipython3",
   "version": "3.11.5"
  }
 },
 "nbformat": 4,
 "nbformat_minor": 5
}
